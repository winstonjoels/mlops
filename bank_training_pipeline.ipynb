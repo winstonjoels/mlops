{
 "cells": [
  {
   "cell_type": "code",
   "execution_count": 34,
   "metadata": {},
   "outputs": [
    {
     "name": "stdout",
     "output_type": "stream",
     "text": [
      "Transformation Pipeline and Model Sucessfully Loaded\n"
     ]
    }
   ],
   "source": [
    "import numpy as np\n",
    "import pandas as pd\n",
    "import pickle\n",
    "from pycaret.regression import *\n",
    "\n",
    "import warnings\n",
    "warnings.filterwarnings(\"ignore\")\n",
    "\n",
    "from sklearn.preprocessing import OneHotEncoder\n",
    "from sklearn.preprocessing import LabelEncoder\n",
    "from sklearn import linear_model, svm\n",
    "from sklearn.metrics import confusion_matrix, accuracy_score\n",
    "from sklearn.ensemble import RandomForestClassifier\n",
    "\n",
    "def bank_training_pipeline():\n",
    "    bank_data = load_model(\"bank_data_pipeline\")\n",
    "    categorical = bank_data.drop(columns = ['y','age'])\n",
    "    y = bank_data['y']\n",
    "\n",
    "    from sklearn.preprocessing import LabelEncoder\n",
    "    Encoder_categorical = LabelEncoder()\n",
    "    mapping_dict ={}\n",
    "    for col in categorical.columns:\n",
    "        categorical[col] = Encoder_categorical.fit_transform(categorical[col])\n",
    "        le_name_mapping = dict(zip(Encoder_categorical.classes_, Encoder_categorical.transform(Encoder_categorical.classes_)))\n",
    "        mapping_dict[col] = le_name_mapping\n",
    "\n",
    "    \n",
    "    X = bank_data['age']\n",
    "    X_train = pd.concat([X, categorical], axis='columns')\n",
    "\n",
    "    Encoder_y = LabelEncoder()\n",
    "    y = Encoder_y.fit_transform(y)\n",
    "    y_train = y\n",
    "    \n",
    "    \n",
    "    \n",
    "    classifier = RandomForestClassifier(n_estimators=50, n_jobs=-1)\n",
    "\n",
    "    classifier.fit(X_train, y_train)\n",
    "    with open(\"bank_training_pipeline.pkl\", \"wb\") as f:\n",
    "        pickle.dump(classifier, f)\n",
    "        f.close()\n",
    "    \n",
    "    \n",
    "    \n",
    "bank_training_pipeline()"
   ]
  },
  {
   "cell_type": "code",
   "execution_count": null,
   "metadata": {},
   "outputs": [],
   "source": []
  }
 ],
 "metadata": {
  "kernelspec": {
   "display_name": "Python 3",
   "language": "python",
   "name": "python3"
  },
  "language_info": {
   "codemirror_mode": {
    "name": "ipython",
    "version": 3
   },
   "file_extension": ".py",
   "mimetype": "text/x-python",
   "name": "python",
   "nbconvert_exporter": "python",
   "pygments_lexer": "ipython3",
   "version": "3.8.3"
  }
 },
 "nbformat": 4,
 "nbformat_minor": 4
}
